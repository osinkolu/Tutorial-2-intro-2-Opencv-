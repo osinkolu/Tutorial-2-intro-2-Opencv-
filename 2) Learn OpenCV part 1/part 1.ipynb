{
 "cells": [
  {
   "cell_type": "markdown",
   "metadata": {},
   "source": [
    "# A fast bumpy ride through OpenCV.\n",
    "In this tutorial, i will be driving you through a bumpy road of learning the openCV library. Let me be your driver, you just sit back and enjoy the ride, you are well advised to code along.\n",
    "\n",
    "### About Opencv\n",
    "The OpenCV means Open Computer Vision, the library is indeed one of the first of its kind, it was originally developed by Intel, then supported by some others since about 1999.\n",
    "\n",
    "### Installation of the Opencv library.\n",
    "The opencv library can be easily installed through pip.\n",
    "command : pip install opencv-python\n",
    "\n",
    "### About imutils\n",
    "Thanks to Adrian rosebrock, owner and founder of pyimage search, he created a library tagged for image utility, included in this library are series of convenience functions to make basic image processing functions such as translation, rotation, resizing, skeletonization, displaying Matplotlib images, sorting contours, detecting edges, and much more easier with OpenCV and both Python 2.7 and Python 3.\n",
    "\n",
    "### Installation of the Imutils library.\n",
    "pip install imutils.\n",
    "\n",
    "To know more, check pypi.org"
   ]
  },
  {
   "cell_type": "code",
   "execution_count": 1,
   "metadata": {},
   "outputs": [],
   "source": [
    "# import the necessary packages.\n",
    "import imutils\n",
    "import cv2"
   ]
  },
  {
   "cell_type": "markdown",
   "metadata": {},
   "source": [
    "##### Loading The input image.\n",
    "To load in the input image, we use the cv2.imread(), with the input parameters as the image you intend to load. I used one of my favoiurite movies as the image, the Avengers end-game. \n",
    "Understand that the image now read by OpenCV is simply just a set of numpy arrays representing pixel values...e.t.c\n",
    "##### Check out the image height and width.\n",
    "you will find that the image.shape() brings out three parameters, the first one is the width, the second is the height and the 3rd is the dimension of colors, commonly, colored pictures have a depth of 3, representing the R,G,B. so we check out the width, height and depth."
   ]
  },
  {
   "cell_type": "code",
   "execution_count": 2,
   "metadata": {},
   "outputs": [
    {
     "name": "stdout",
     "output_type": "stream",
     "text": [
      "width is 1328, height is 636, depth is 3\n"
     ]
    }
   ],
   "source": [
    "#lets load in the input image.\n",
    "image = cv2.imread(\"the_avengers.jpeg\")\n",
    "(h,w,d) = image.shape\n",
    "print(\"width is {}, height is {}, depth is {}\". format(w,h,d))"
   ]
  },
  {
   "cell_type": "markdown",
   "metadata": {},
   "source": [
    "##### Showing the image on a frame.\n",
    "To display the image on a frame, we use the imshow, in it, are two parameters, the name you want on the frame, and the frame you intend to display.\n",
    "\n",
    "##### Frame waitkey....\n",
    "The cv.waitkey is very much needed as without it, the image will show and disappear even before you see it. the waitkey(0) i used here waits for you to press 0 on the frame or close it from the close button.\n",
    "###### quick note:\n",
    " for this image, it may be too big for your screen as the image dimensions are quite large. Do well to drag the frame to the right to see the exit button."
   ]
  },
  {
   "cell_type": "code",
   "execution_count": 3,
   "metadata": {},
   "outputs": [
    {
     "data": {
      "text/plain": [
       "-1"
      ]
     },
     "execution_count": 3,
     "metadata": {},
     "output_type": "execute_result"
    }
   ],
   "source": [
    "cv2.imshow(\"Image\", image)\n",
    "cv2.waitKey(0)"
   ]
  },
  {
   "cell_type": "markdown",
   "metadata": {},
   "source": [
    "##### Check out the R,G,B values.\n",
    "What is a pixel: The word pixel invented from the word picture element is just an area of illumination on the screen. The pixels in the picture are very tiny fragments which make up the whole picture.\n",
    "##### RGB values at point(x,y)\n",
    "Funny how that you can get the RGB values of a particular pixel on a point in the picture."
   ]
  },
  {
   "cell_type": "code",
   "execution_count": 4,
   "metadata": {},
   "outputs": [
    {
     "name": "stdout",
     "output_type": "stream",
     "text": [
      "R=56, G = 39, B = 107\n"
     ]
    }
   ],
   "source": [
    "# let's check out pixel x=50,y=100\n",
    "(B,G,R) = image[100,50]\n",
    "print(\"R={}, G = {}, B = {}\".format(R, G, B))"
   ]
  },
  {
   "cell_type": "markdown",
   "metadata": {},
   "source": [
    "##### Extracting your Region Of Interest.\n",
    "In the below example, you see how easily i extracted my region of interest from the avengers picture, in this case was the head of Tony Stark. I figured out the co-ordinates, then extracted it out for display. It's quite simple, since the image is now just a numpy array."
   ]
  },
  {
   "cell_type": "code",
   "execution_count": 7,
   "metadata": {},
   "outputs": [
    {
     "data": {
      "text/plain": [
       "-1"
      ]
     },
     "execution_count": 7,
     "metadata": {},
     "output_type": "execute_result"
    }
   ],
   "source": [
    "#extracting image ROI\n",
    "roi = image[5:240, 350:565]\n",
    "cv2.imshow(\"Region of Interest\", roi)\n",
    "cv2.waitKey(0)"
   ]
  },
  {
   "cell_type": "markdown",
   "metadata": {},
   "source": [
    "###### Resizing images. \n",
    "Resizing images in Opencv is quite simple, the cv2.resize(), does the job, the two params i provided were the image, as well as the new dimension you intend to resize it to.\n"
   ]
  },
  {
   "cell_type": "code",
   "execution_count": 8,
   "metadata": {},
   "outputs": [
    {
     "data": {
      "text/plain": [
       "-1"
      ]
     },
     "execution_count": 8,
     "metadata": {},
     "output_type": "execute_result"
    }
   ],
   "source": [
    "#how to resize images ignoring aspect ratio.\n",
    "resized_image = cv2.resize(image, (400,400))\n",
    "cv2.imshow(\"Fixed Resizing\", resized_image)\n",
    "cv2.waitKey(0)"
   ]
  },
  {
   "cell_type": "markdown",
   "metadata": {},
   "source": [
    "###### Resize with aspect ratio intact.\n",
    "As seen earlier, the avengers image is quite distorted as the aspect ratio has been tampered with since we provided just any dimension for the resize.To keep the aspect ratio in shape, all you need make sure of is that the resize dimensions are a ratio of the True dimension. See the simple code below.First i grabbed the True width and height from the image, next i chose my scale ratio, then initialized the new weight and height, lastly, slot them into cv's resize(). Playing around with this, you'll also discover that the image scale should always be discrete and not continous or float values."
   ]
  },
  {
   "cell_type": "code",
   "execution_count": 10,
   "metadata": {},
   "outputs": [
    {
     "data": {
      "text/plain": [
       "-1"
      ]
     },
     "execution_count": 10,
     "metadata": {},
     "output_type": "execute_result"
    }
   ],
   "source": [
    "# taking aspect ratio into consideration\n",
    "image.shape\n",
    "width = image.shape[1]\n",
    "height = image.shape[0]\n",
    "scale = 0.5\n",
    "w,h = int(width*scale), int(height*scale)\n",
    "resized_imaging = cv2.resize(image,(w,h))\n",
    "cv2.imshow(\"Aspect ratio considered resizing\", resized_imaging)\n",
    "cv2.waitKey(0)"
   ]
  },
  {
   "cell_type": "markdown",
   "metadata": {},
   "source": [
    "##### Rotating Images in OpenCV.\n",
    "We can rotate images in opencv by a certain degree but though not as easy as eating fufu and fried fish. To rotate an image, first we determine the center. that's quite easy to do, use the floor divide method to avoid continous values. Next step is to calculate a rotation matrix, -45 degrees is used since intend to rotate it clockwise, anti-clockwisely would be a positive (45 degrees). Now, the warpAffine does the rotation based on the calculated rotation matrix."
   ]
  },
  {
   "cell_type": "code",
   "execution_count": 11,
   "metadata": {},
   "outputs": [
    {
     "data": {
      "text/plain": [
       "-1"
      ]
     },
     "execution_count": 11,
     "metadata": {},
     "output_type": "execute_result"
    }
   ],
   "source": [
    "# Rotating images in opencv\n",
    "center = (w//2, h//2)\n",
    "M = cv2.getRotationMatrix2D(center, -45, 1.0)\n",
    "rotated = cv2.warpAffine(image, M, (w,h))\n",
    "cv2.imshow(\"cvrotation\", rotated)\n",
    "cv2.waitKey(0)"
   ]
  },
  {
   "cell_type": "markdown",
   "metadata": {},
   "source": [
    "###### Using Imutils.\n",
    "Imutils has a lot of convinience functions, one of it is the rotate fuction, where you just need a single line to rotate the image."
   ]
  },
  {
   "cell_type": "code",
   "execution_count": 12,
   "metadata": {},
   "outputs": [
    {
     "data": {
      "text/plain": [
       "-1"
      ]
     },
     "execution_count": 12,
     "metadata": {},
     "output_type": "execute_result"
    }
   ],
   "source": [
    "# using imutils to rotate images\n",
    "rotated = imutils.rotate(image, -45)\n",
    "cv2.imshow(\"IMUTILS ROTATION\", rotated)\n",
    "cv2.waitKey(0)"
   ]
  },
  {
   "cell_type": "markdown",
   "metadata": {},
   "source": [
    "###### Edges Not Clipped Here (Imutils rotate bound):\n",
    "You've noticed how that the image was clipped by opencv but much thanks to Adrian Rosebrock and his set of convienience functions, the imutils has a rotate bound fuction with many things going on in it, it rotates the image but leaving all edges intact, no matter the size of the picture. Although the angle for rotation is based on the 3-digits co-ordinates as used in True bearings."
   ]
  },
  {
   "cell_type": "code",
   "execution_count": 13,
   "metadata": {},
   "outputs": [
    {
     "data": {
      "text/plain": [
       "-1"
      ]
     },
     "execution_count": 13,
     "metadata": {},
     "output_type": "execute_result"
    }
   ],
   "source": [
    "# using imutils to rotate images with edges showing perfectly\n",
    "# solving a cv2 problem\n",
    "rotated = imutils.rotate_bound(image,30)\n",
    "cv2.imshow(\"IMUTILS ROTATION\", rotated)\n",
    "cv2.waitKey(0)"
   ]
  },
  {
   "cell_type": "markdown",
   "metadata": {},
   "source": [
    "###### Blurring your Image.\n",
    "Sometimes, you might decide to blurr your image to reduce high frequency noise and make it easier for your model to understand, Opencv has that sorted-out with the gaussian blurr fuction, among many other ways to acomplish this."
   ]
  },
  {
   "cell_type": "code",
   "execution_count": 14,
   "metadata": {},
   "outputs": [
    {
     "data": {
      "text/plain": [
       "-1"
      ]
     },
     "execution_count": 14,
     "metadata": {},
     "output_type": "execute_result"
    }
   ],
   "source": [
    "# blurring an image using the gaussian blur\n",
    "blurred = cv2.GaussianBlur(image,(11,11),0)\n",
    "cv2.imshow('blurred', blurred)\n",
    "cv2.waitKey(0)"
   ]
  },
  {
   "cell_type": "markdown",
   "metadata": {},
   "source": [
    "###### Draw a Rectangle on your image.\n",
    "Most times, especially during Object detection in an image, you might decide to draw a rectangle to bound your region of interest. This can be done with the cv2.rectangle() method.The simple order is (image,(right-margin,top-margin),(left-margin,bottom-margin),(colour),thickness). I bounded a rectangle about Tony stark's face.\n",
    "##### Image.copy()\n",
    "To simply avoid destruction of my True image, i used the image.copy() function to create a copy of the image, where i can now draw anything i like on it."
   ]
  },
  {
   "cell_type": "code",
   "execution_count": 15,
   "metadata": {},
   "outputs": [
    {
     "data": {
      "text/plain": [
       "-1"
      ]
     },
     "execution_count": 15,
     "metadata": {},
     "output_type": "execute_result"
    }
   ],
   "source": [
    "#drawing rectangle on an image.\n",
    "output = image.copy()\n",
    "#(image,(right-margin,top-margin),(left-margin,bottom-margin),(colour),thickness)\n",
    "cv2.rectangle(output,(563,0),(355,240),(0,0,225),2)\n",
    "cv2.imshow(\"rectangled_pic\", output)\n",
    "cv2.waitKey(0)"
   ]
  },
  {
   "cell_type": "markdown",
   "metadata": {},
   "source": [
    "##### Draw a circle anywhere on the image.\n",
    "The circle is also much similar, the params are the image, centre(x,y) of the circle, the radius, the colour and lastly thickness of the circumference. I wanted a filled circle so i used -1 as the hollowness of my circle."
   ]
  },
  {
   "cell_type": "code",
   "execution_count": 16,
   "metadata": {},
   "outputs": [
    {
     "data": {
      "text/plain": [
       "13"
      ]
     },
     "execution_count": 16,
     "metadata": {},
     "output_type": "execute_result"
    }
   ],
   "source": [
    "# drawing circle on an image\n",
    "#draw a filled in blue circle with centre at (300,150)\n",
    "output = image.copy()\n",
    "cv2.circle(output, (300,150),20,(225,0,0),-1)\n",
    "cv2.imshow(\"circled_picture\", output)\n",
    "cv2.waitKey(0)"
   ]
  },
  {
   "cell_type": "markdown",
   "metadata": {},
   "source": [
    "###### Draw a hollowed circle anywhere on the image.\n",
    "The steps are much similar to that of the filled circle, only that the thickness is now positive"
   ]
  },
  {
   "cell_type": "code",
   "execution_count": 10,
   "metadata": {},
   "outputs": [
    {
     "data": {
      "text/plain": [
       "-1"
      ]
     },
     "execution_count": 10,
     "metadata": {},
     "output_type": "execute_result"
    }
   ],
   "source": [
    "# drawing circle on an image\n",
    "#draw a hollow green circle with centre at (300,150)\n",
    "output = image.copy()\n",
    "cv2.circle(output, (300,150),20,(0,0,225),3)\n",
    "cv2.imshow(\"circle on picture\", output)\n",
    "cv2.waitKey(0)"
   ]
  },
  {
   "cell_type": "markdown",
   "metadata": {},
   "source": [
    "###### Write text on the image.\n",
    "Writing text on image in opencv requires the putText function, The function takes in quite a bit. 1) The image, 2) The text, 3) The starting point of the text, 4) The font, in this case i used (cv2.FONT_HERSHEY_SIMPLEX), there are more fonts available in opencv though.Next is the 5) size of text, 6) The colour, and lastly 7) The thickness of the text."
   ]
  },
  {
   "cell_type": "code",
   "execution_count": 11,
   "metadata": {},
   "outputs": [
    {
     "data": {
      "text/plain": [
       "-1"
      ]
     },
     "execution_count": 11,
     "metadata": {},
     "output_type": "execute_result"
    }
   ],
   "source": [
    "# writing a text on an image\n",
    "output = image.copy()\n",
    "cv2.putText(output, \" Avengers End-Game \",(10,25), cv2.FONT_HERSHEY_SIMPLEX, 0.9, (0, 255, 0), 2)\n",
    "cv2.imshow(\"Opencv Text on Image\", output)\n",
    "cv2.waitKey(0)"
   ]
  },
  {
   "cell_type": "markdown",
   "metadata": {},
   "source": [
    "## Yes!! you made it to the Stop Over (my back aches a little).\n",
    "Basic tutorial on Opencv and a touch of imutils is now completed, let's get started with part 2 of the Bumpy ride where we will work on a simple project with your opencv skills."
   ]
  },
  {
   "cell_type": "code",
   "execution_count": null,
   "metadata": {},
   "outputs": [],
   "source": []
  }
 ],
 "metadata": {
  "kernelspec": {
   "display_name": "Python 3",
   "language": "python",
   "name": "python3"
  },
  "language_info": {
   "codemirror_mode": {
    "name": "ipython",
    "version": 3
   },
   "file_extension": ".py",
   "mimetype": "text/x-python",
   "name": "python",
   "nbconvert_exporter": "python",
   "pygments_lexer": "ipython3",
   "version": "3.7.4"
  }
 },
 "nbformat": 4,
 "nbformat_minor": 2
}
